{
  "cells": [
    {
      "cell_type": "code",
      "execution_count": 3,
      "metadata": {
        "colab": {
          "base_uri": "https://localhost:8080/"
        },
        "id": "Ws-zHqpLSwV8",
        "outputId": "08ec61c0-81b3-4d38-ca8b-3f871494de35"
      },
      "outputs": [
        {
          "name": "stdout",
          "output_type": "stream",
          "text": [
            "Requirement already satisfied: opencv-python in /usr/local/lib/python3.10/dist-packages (4.8.0.76)\n",
            "Requirement already satisfied: numpy>=1.21.2 in /usr/local/lib/python3.10/dist-packages (from opencv-python) (1.25.2)\n",
            "Requirement already satisfied: numpy in /usr/local/lib/python3.10/dist-packages (1.25.2)\n",
            "Requirement already satisfied: face_recognition in /usr/local/lib/python3.10/dist-packages (1.3.0)\n",
            "Requirement already satisfied: face-recognition-models>=0.3.0 in /usr/local/lib/python3.10/dist-packages (from face_recognition) (0.3.0)\n",
            "Requirement already satisfied: Click>=6.0 in /usr/local/lib/python3.10/dist-packages (from face_recognition) (8.1.7)\n",
            "Requirement already satisfied: dlib>=19.7 in /usr/local/lib/python3.10/dist-packages (from face_recognition) (19.24.4)\n",
            "Requirement already satisfied: numpy in /usr/local/lib/python3.10/dist-packages (from face_recognition) (1.25.2)\n",
            "Requirement already satisfied: Pillow in /usr/local/lib/python3.10/dist-packages (from face_recognition) (9.4.0)\n"
          ]
        }
      ],
      "source": []
    },
    {
      "cell_type": "code",
      "execution_count": 1,
      "metadata": {
        "id": "tcTZZXWuSsJt"
      },
      "outputs": [],
      "source": [
        "import face_recognition\n",
        "import cv2\n",
        "import numpy as np\n",
        "import csv\n",
        "import os\n",
        "from datetime import datetime"
      ]
    },
    {
      "cell_type": "markdown",
      "metadata": {},
      "source": [
        "## Encoding Face data"
      ]
    },
    {
      "cell_type": "code",
      "execution_count": 5,
      "metadata": {
        "id": "f9wHvFiuSvMg"
      },
      "outputs": [],
      "source": [
        "bill_image = face_recognition.load_image_file(\"./Bill-Gates-2011.webp\")\n",
        "bill_encoding = face_recognition.face_encodings(bill_image)[0]\n",
        "\n",
        "ratan_tata_image = face_recognition.load_image_file(\"./images.jpeg\")\n",
        "ratan_tata_encoding = face_recognition.face_encodings(ratan_tata_image)[0]\n",
        "\n",
        "ashneer_image = face_recognition.load_image_file(\"./download.jpeg\")\n",
        "ashneer_encoding = face_recognition.face_encodings(ashneer_image)[0]\n",
        "\n",
        "piyush_image = face_recognition.load_image_file(\"./1674100659-pbansal.jpg\")\n",
        "piyush_encoding = face_recognition.face_encodings(piyush_image)[0]\n",
        "\n",
        "known_face_encoding = [\n",
        "bill_encoding,\n",
        "ratan_tata_encoding,\n",
        "ashneer_encoding,\n",
        "piyush_encoding\n",
        "]\n",
        "\n",
        "known_faces_names = [\n",
        "\"bill\",\n",
        "\"ratan tata\",\n",
        "\"ashneer\",\n",
        "\"piyush\"\n",
        "]"
      ]
    },
    {
      "cell_type": "markdown",
      "metadata": {},
      "source": [
        "## Making a copy to be saved in csv file"
      ]
    },
    {
      "cell_type": "code",
      "execution_count": 6,
      "metadata": {
        "id": "m7oIeESqWgQU"
      },
      "outputs": [],
      "source": [
        "students = known_faces_names.copy()\n",
        "\n",
        "face_locations = []\n",
        "face_encodings = []\n",
        "face_names = []\n",
        "s=True\n",
        "\n",
        "now = datetime.now()\n",
        "current_date = now.strftime(\"%Y-%m-%d\")\n",
        "\n",
        "f = open(current_date+'.csv','w+',newline = '')\n",
        "lnwriter = csv.writer(f)"
      ]
    },
    {
      "cell_type": "code",
      "execution_count": 15,
      "metadata": {
        "colab": {
          "base_uri": "https://localhost:8080/",
          "height": 1000
        },
        "id": "V7BRm4ZBZWLq",
        "outputId": "92458369-e1ee-417d-8479-087b446ce90d"
      },
      "outputs": [],
      "source": [
        "image = face_recognition.load_image_file(\"./images.jpeg\")\n",
        "\n",
        "unknown_encoding = face_recognition.face_encodings(image)[0]\n"
      ]
    },
    {
      "cell_type": "markdown",
      "metadata": {},
      "source": [
        "## Comparing models and knowing which person matches with input face encoding"
      ]
    },
    {
      "cell_type": "code",
      "execution_count": 22,
      "metadata": {},
      "outputs": [
        {
          "name": "stdout",
          "output_type": "stream",
          "text": [
            "The unknown face matches ratan tata.\n"
          ]
        }
      ],
      "source": [
        "results = face_recognition.compare_faces(known_face_encoding, unknown_encoding)\n",
        "\n",
        "first_match_index = results.index(True) if True in results else None\n",
        "\n",
        "if first_match_index is not None:\n",
        "    matched_name = known_faces_names[first_match_index]\n",
        "    print(f\"The face matches {matched_name}.\")\n",
        "    # here we can write corresponding code to generate information of that individual\n",
        "else:\n",
        "    print(\"The  face does not match any known individual.\")"
      ]
    },
    {
      "cell_type": "code",
      "execution_count": null,
      "metadata": {},
      "outputs": [],
      "source": []
    }
  ],
  "metadata": {
    "accelerator": "GPU",
    "colab": {
      "gpuType": "T4",
      "provenance": []
    },
    "kernelspec": {
      "display_name": "Python 3",
      "name": "python3"
    },
    "language_info": {
      "codemirror_mode": {
        "name": "ipython",
        "version": 3
      },
      "file_extension": ".py",
      "mimetype": "text/x-python",
      "name": "python",
      "nbconvert_exporter": "python",
      "pygments_lexer": "ipython3",
      "version": "3.10.12"
    }
  },
  "nbformat": 4,
  "nbformat_minor": 0
}
